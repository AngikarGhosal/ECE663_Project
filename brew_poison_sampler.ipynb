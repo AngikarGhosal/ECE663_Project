{
  "cells": [
    {
      "cell_type": "markdown",
      "metadata": {
        "id": "s5clsY8-Rw6v"
      },
      "source": [
        "Packages"
      ]
    },
    {
      "cell_type": "code",
      "execution_count": 19,
      "metadata": {
        "colab": {
          "base_uri": "https://localhost:8080/"
        },
        "id": "I2cAOpdQRwWZ",
        "outputId": "ec799cc7-25ee-4936-b57a-aa1752bb9555"
      },
      "outputs": [
        {
          "output_type": "stream",
          "name": "stdout",
          "text": [
            "Looking in indexes: https://pypi.org/simple, https://us-python.pkg.dev/colab-wheels/public/simple/\n",
            "Requirement already satisfied: pytorch_lightning in /usr/local/lib/python3.9/dist-packages (2.0.1.post0)\n",
            "Requirement already satisfied: tqdm>=4.57.0 in /usr/local/lib/python3.9/dist-packages (from pytorch_lightning) (4.65.0)\n",
            "Requirement already satisfied: numpy>=1.17.2 in /usr/local/lib/python3.9/dist-packages (from pytorch_lightning) (1.22.4)\n",
            "Requirement already satisfied: torchmetrics>=0.7.0 in /usr/local/lib/python3.9/dist-packages (from pytorch_lightning) (0.11.4)\n",
            "Requirement already satisfied: packaging>=17.1 in /usr/local/lib/python3.9/dist-packages (from pytorch_lightning) (23.0)\n",
            "Requirement already satisfied: typing-extensions>=4.0.0 in /usr/local/lib/python3.9/dist-packages (from pytorch_lightning) (4.5.0)\n",
            "Requirement already satisfied: lightning-utilities>=0.7.0 in /usr/local/lib/python3.9/dist-packages (from pytorch_lightning) (0.8.0)\n",
            "Requirement already satisfied: torch>=1.11.0 in /usr/local/lib/python3.9/dist-packages (from pytorch_lightning) (2.0.0+cu118)\n",
            "Requirement already satisfied: fsspec[http]>2021.06.0 in /usr/local/lib/python3.9/dist-packages (from pytorch_lightning) (2023.4.0)\n",
            "Requirement already satisfied: PyYAML>=5.4 in /usr/local/lib/python3.9/dist-packages (from pytorch_lightning) (6.0)\n",
            "Requirement already satisfied: requests in /usr/local/lib/python3.9/dist-packages (from fsspec[http]>2021.06.0->pytorch_lightning) (2.27.1)\n",
            "Requirement already satisfied: aiohttp!=4.0.0a0,!=4.0.0a1 in /usr/local/lib/python3.9/dist-packages (from fsspec[http]>2021.06.0->pytorch_lightning) (3.8.4)\n",
            "Requirement already satisfied: jinja2 in /usr/local/lib/python3.9/dist-packages (from torch>=1.11.0->pytorch_lightning) (3.1.2)\n",
            "Requirement already satisfied: filelock in /usr/local/lib/python3.9/dist-packages (from torch>=1.11.0->pytorch_lightning) (3.11.0)\n",
            "Requirement already satisfied: networkx in /usr/local/lib/python3.9/dist-packages (from torch>=1.11.0->pytorch_lightning) (3.1)\n",
            "Requirement already satisfied: triton==2.0.0 in /usr/local/lib/python3.9/dist-packages (from torch>=1.11.0->pytorch_lightning) (2.0.0)\n",
            "Requirement already satisfied: sympy in /usr/local/lib/python3.9/dist-packages (from torch>=1.11.0->pytorch_lightning) (1.11.1)\n",
            "Requirement already satisfied: lit in /usr/local/lib/python3.9/dist-packages (from triton==2.0.0->torch>=1.11.0->pytorch_lightning) (16.0.1)\n",
            "Requirement already satisfied: cmake in /usr/local/lib/python3.9/dist-packages (from triton==2.0.0->torch>=1.11.0->pytorch_lightning) (3.25.2)\n",
            "Requirement already satisfied: charset-normalizer<4.0,>=2.0 in /usr/local/lib/python3.9/dist-packages (from aiohttp!=4.0.0a0,!=4.0.0a1->fsspec[http]>2021.06.0->pytorch_lightning) (2.0.12)\n",
            "Requirement already satisfied: yarl<2.0,>=1.0 in /usr/local/lib/python3.9/dist-packages (from aiohttp!=4.0.0a0,!=4.0.0a1->fsspec[http]>2021.06.0->pytorch_lightning) (1.8.2)\n",
            "Requirement already satisfied: aiosignal>=1.1.2 in /usr/local/lib/python3.9/dist-packages (from aiohttp!=4.0.0a0,!=4.0.0a1->fsspec[http]>2021.06.0->pytorch_lightning) (1.3.1)\n",
            "Requirement already satisfied: attrs>=17.3.0 in /usr/local/lib/python3.9/dist-packages (from aiohttp!=4.0.0a0,!=4.0.0a1->fsspec[http]>2021.06.0->pytorch_lightning) (22.2.0)\n",
            "Requirement already satisfied: multidict<7.0,>=4.5 in /usr/local/lib/python3.9/dist-packages (from aiohttp!=4.0.0a0,!=4.0.0a1->fsspec[http]>2021.06.0->pytorch_lightning) (6.0.4)\n",
            "Requirement already satisfied: async-timeout<5.0,>=4.0.0a3 in /usr/local/lib/python3.9/dist-packages (from aiohttp!=4.0.0a0,!=4.0.0a1->fsspec[http]>2021.06.0->pytorch_lightning) (4.0.2)\n",
            "Requirement already satisfied: frozenlist>=1.1.1 in /usr/local/lib/python3.9/dist-packages (from aiohttp!=4.0.0a0,!=4.0.0a1->fsspec[http]>2021.06.0->pytorch_lightning) (1.3.3)\n",
            "Requirement already satisfied: MarkupSafe>=2.0 in /usr/local/lib/python3.9/dist-packages (from jinja2->torch>=1.11.0->pytorch_lightning) (2.1.2)\n",
            "Requirement already satisfied: certifi>=2017.4.17 in /usr/local/lib/python3.9/dist-packages (from requests->fsspec[http]>2021.06.0->pytorch_lightning) (2022.12.7)\n",
            "Requirement already satisfied: idna<4,>=2.5 in /usr/local/lib/python3.9/dist-packages (from requests->fsspec[http]>2021.06.0->pytorch_lightning) (3.4)\n",
            "Requirement already satisfied: urllib3<1.27,>=1.21.1 in /usr/local/lib/python3.9/dist-packages (from requests->fsspec[http]>2021.06.0->pytorch_lightning) (1.26.15)\n",
            "Requirement already satisfied: mpmath>=0.19 in /usr/local/lib/python3.9/dist-packages (from sympy->torch>=1.11.0->pytorch_lightning) (1.3.0)\n",
            "Looking in indexes: https://pypi.org/simple, https://us-python.pkg.dev/colab-wheels/public/simple/, https://download.pytorch.org/whl/cu102\n",
            "Collecting torch==1.11.0+cu102\n",
            "  Downloading https://download.pytorch.org/whl/cu102/torch-1.11.0%2Bcu102-cp39-cp39-linux_x86_64.whl (750.6 MB)\n",
            "\u001b[2K     \u001b[90m━━━━━━━━━━━━━━━━━━━━━━━━━━━━━━━━━━━━━━━\u001b[0m \u001b[32m750.6/750.6 MB\u001b[0m \u001b[31m2.5 MB/s\u001b[0m eta \u001b[36m0:00:00\u001b[0m\n",
            "\u001b[?25hCollecting torchvision==0.12.0+cu102\n",
            "  Downloading https://download.pytorch.org/whl/cu102/torchvision-0.12.0%2Bcu102-cp39-cp39-linux_x86_64.whl (21.0 MB)\n",
            "\u001b[2K     \u001b[90m━━━━━━━━━━━━━━━━━━━━━━━━━━━━━━━━━━━━━━━━\u001b[0m \u001b[32m21.0/21.0 MB\u001b[0m \u001b[31m23.9 MB/s\u001b[0m eta \u001b[36m0:00:00\u001b[0m\n",
            "\u001b[?25hCollecting torchaudio==0.11.0\n",
            "  Downloading https://download.pytorch.org/whl/cu102/torchaudio-0.11.0%2Bcu102-cp39-cp39-linux_x86_64.whl (2.9 MB)\n",
            "\u001b[2K     \u001b[90m━━━━━━━━━━━━━━━━━━━━━━━━━━━━━━━━━━━━━━━━\u001b[0m \u001b[32m2.9/2.9 MB\u001b[0m \u001b[31m49.3 MB/s\u001b[0m eta \u001b[36m0:00:00\u001b[0m\n",
            "\u001b[?25hRequirement already satisfied: typing-extensions in /usr/local/lib/python3.9/dist-packages (from torch==1.11.0+cu102) (4.5.0)\n",
            "Requirement already satisfied: pillow!=8.3.*,>=5.3.0 in /usr/local/lib/python3.9/dist-packages (from torchvision==0.12.0+cu102) (8.4.0)\n",
            "Requirement already satisfied: requests in /usr/local/lib/python3.9/dist-packages (from torchvision==0.12.0+cu102) (2.27.1)\n",
            "Requirement already satisfied: numpy in /usr/local/lib/python3.9/dist-packages (from torchvision==0.12.0+cu102) (1.22.4)\n",
            "Requirement already satisfied: urllib3<1.27,>=1.21.1 in /usr/local/lib/python3.9/dist-packages (from requests->torchvision==0.12.0+cu102) (1.26.15)\n",
            "Requirement already satisfied: charset-normalizer~=2.0.0 in /usr/local/lib/python3.9/dist-packages (from requests->torchvision==0.12.0+cu102) (2.0.12)\n",
            "Requirement already satisfied: certifi>=2017.4.17 in /usr/local/lib/python3.9/dist-packages (from requests->torchvision==0.12.0+cu102) (2022.12.7)\n",
            "Requirement already satisfied: idna<4,>=2.5 in /usr/local/lib/python3.9/dist-packages (from requests->torchvision==0.12.0+cu102) (3.4)\n",
            "Installing collected packages: torch, torchvision, torchaudio\n",
            "  Attempting uninstall: torch\n",
            "    Found existing installation: torch 2.0.0+cu118\n",
            "    Uninstalling torch-2.0.0+cu118:\n",
            "      Successfully uninstalled torch-2.0.0+cu118\n",
            "  Attempting uninstall: torchvision\n",
            "    Found existing installation: torchvision 0.15.1+cu118\n",
            "    Uninstalling torchvision-0.15.1+cu118:\n",
            "      Successfully uninstalled torchvision-0.15.1+cu118\n",
            "  Attempting uninstall: torchaudio\n",
            "    Found existing installation: torchaudio 2.0.1+cu118\n",
            "    Uninstalling torchaudio-2.0.1+cu118:\n",
            "      Successfully uninstalled torchaudio-2.0.1+cu118\n",
            "\u001b[31mERROR: pip's dependency resolver does not currently take into account all the packages that are installed. This behaviour is the source of the following dependency conflicts.\n",
            "torchtext 0.15.1 requires torch==2.0.0, but you have torch 1.11.0+cu102 which is incompatible.\n",
            "torchdata 0.6.0 requires torch==2.0.0, but you have torch 1.11.0+cu102 which is incompatible.\u001b[0m\u001b[31m\n",
            "\u001b[0mSuccessfully installed torch-1.11.0+cu102 torchaudio-0.11.0+cu102 torchvision-0.12.0+cu102\n"
          ]
        }
      ],
      "source": [
        "!pip install pytorch_lightning\n",
        "!pip install torch==1.11.0+cu102 torchvision==0.12.0+cu102 torchaudio==0.11.0 --extra-index-url https://download.pytorch.org/whl/cu102\n",
        "\n",
        "import numpy as np \n",
        "import matplotlib.pyplot as plt \n",
        "import math \n",
        "from mpl_toolkits.mplot3d import Axes3D\n",
        "import torch\n",
        "import torch.nn as nn\n",
        "import os\n",
        "from torch import distributions\n",
        "from torch.nn.parameter import Parameter\n",
        "import torch.nn.functional as F\n",
        "import torch.optim as optim\n",
        "from torch.distributions import MultivariateNormal\n",
        "from sklearn.model_selection import train_test_split\n",
        "import pytorch_lightning as pl\n",
        "import pandas as pd\n",
        "import matplotlib.pyplot as plt\n",
        "import tensorflow as tf\n",
        "import torchvision\n",
        "from torchvision.datasets import USPS\n",
        "from torchvision.datasets import KMNIST\n",
        "from torchvision import transforms\n",
        "import torch.utils.data as data\n",
        "import random\n",
        "from torch.utils.data import ConcatDataset"
      ]
    },
    {
      "cell_type": "markdown",
      "metadata": {
        "id": "ehhBN0GTR-_k"
      },
      "source": [
        "Necessary Classes"
      ]
    },
    {
      "cell_type": "code",
      "execution_count": 2,
      "metadata": {
        "id": "Sm_keA9dR-vL"
      },
      "outputs": [],
      "source": [
        "#device = torch.device('cuda' if torch.cuda.is_available() else 'cpu')\n",
        "\n",
        "class MLP(nn.Module):\n",
        "    \"\"\"This is a multi-layer perceptron with 4 layers\"\"\"\n",
        "    \"\"\"This uses four Linear layers, with LeakyReLU as the underlying nonlinearization.\"\"\"\n",
        "    \"\"\"The variables nin, nout, nh denote the number of input neurons, number of output neurons and the number of hidden neurons in middle layers\"\"\"\n",
        "    def __init__(self, nin, nout, nh):\n",
        "        super().__init__()\n",
        "        self.net = nn.Sequential(\n",
        "            nn.Linear(nin, nh),\n",
        "            nn.LeakyReLU(0.2),\n",
        "            nn.Linear(nh, nh),\n",
        "            nn.LeakyReLU(0.2),\n",
        "            nn.Linear(nh, nh),\n",
        "            nn.LeakyReLU(0.2),\n",
        "            nn.Linear(nh, nout),\n",
        "        )\n",
        "    def forward(self, x):\n",
        "        return self.net(x)\n",
        "   \n",
        "class MaskedLinear(nn.Linear):\n",
        "    \"\"\"The MaskedLinear module is similar to a Linear module in Pytorch except that we can configure a mask on the weights\"\"\"\n",
        "    def __init__(self, in_features, out_features, bias=True):\n",
        "        super().__init__(in_features, out_features, bias)        \n",
        "        self.register_buffer('mask', torch.ones(out_features, in_features))\n",
        "    def set_mask(self, mask):\n",
        "        self.mask.data.copy_(torch.from_numpy(mask.astype(np.uint8).T))\n",
        "        \n",
        "    def forward(self, input):\n",
        "        return F.linear(input, self.mask * self.weight, self.bias)\n",
        "\n",
        "class MADE(nn.Module):\n",
        "    def __init__(self, nin, hidden_sizes, nout, num_masks=1, natural_ordering=False):\n",
        "        \"\"\"\n",
        "        MADE stands for Masked Autoencoder for Density Estimation.\n",
        "        Here the parameter (nin) represents the number of inputs, while hidden_sizes represents the number of units in the hidden layers.\n",
        "        The outputs are parameter for the distribution we are trying to model.\n",
        "        \"\"\"\n",
        "        \n",
        "        super().__init__()\n",
        "        self.nin = nin\n",
        "        self.nout = nout\n",
        "        self.hidden_sizes = hidden_sizes\n",
        "        assert self.nout % self.nin == 0, \"nout must be integer multiple of nin\"\n",
        "        self.net = []\n",
        "        #self.net is a simple MLP Model.\n",
        "        hs = [nin] + hidden_sizes + [nout]\n",
        "        for h0,h1 in zip(hs, hs[1:]):\n",
        "            self.net.extend([\n",
        "                    MaskedLinear(h0, h1),\n",
        "                    nn.ReLU(),\n",
        "                ])\n",
        "        self.net.pop() \n",
        "        self.net = nn.Sequential(*self.net)\n",
        "        self.natural_ordering = natural_ordering\n",
        "        self.num_masks = num_masks\n",
        "        self.seed = 0 # for cycling through num_masks orderings\n",
        "        self.m = {}\n",
        "        self.update_masks() \n",
        "        \n",
        "    def update_masks(self):\n",
        "        if self.m and self.num_masks == 1: return \n",
        "        L = len(self.hidden_sizes)\n",
        "        #This method constructs a random stream based on a seed.\n",
        "        rng = np.random.RandomState(self.seed)\n",
        "        self.seed = (self.seed + 1) % self.num_masks\n",
        "        self.m[-1] = np.arange(self.nin) if self.natural_ordering else rng.permutation(self.nin)\n",
        "        for l in range(L):\n",
        "            self.m[l] = rng.randint(self.m[l-1].min(), self.nin-1, size=self.hidden_sizes[l])\n",
        "        \n",
        "        # This constructs mask matrices.\n",
        "        masks = [self.m[l-1][:,None] <= self.m[l][None,:] for l in range(L)]\n",
        "        masks.append(self.m[L-1][:,None] < self.m[-1][None,:])\n",
        "        \n",
        "        # This handles the case where nout = nin * k, for integer k > 1\n",
        "        if self.nout > self.nin:\n",
        "            k = int(self.nout / self.nin)\n",
        "            masks[-1] = np.concatenate([masks[-1]]*k, axis=1)\n",
        "        \n",
        "        # This sets the masks in all MaskedLinear layers\n",
        "        layers = [l for l in self.net.modules() if isinstance(l, MaskedLinear)]\n",
        "        for l,m in zip(layers, masks):\n",
        "            l.set_mask(m)\n",
        "    \n",
        "    def forward(self, x):\n",
        "        return self.net(x)\n",
        "\n",
        "class ARMLP(nn.Module):\n",
        "\n",
        "    \"\"\" ARMLP refers to Autoregressive MLP, which uses a wrapper around MADE.\"\"\"\n",
        "    def __init__(self, nin, nout, nh):\n",
        "        super().__init__()\n",
        "        self.net = MADE(nin, [nh, nh, nh], nout, num_masks=1, natural_ordering=True)\n",
        "        \n",
        "    def forward(self, x):\n",
        "        return self.net(x)"
      ]
    },
    {
      "cell_type": "markdown",
      "metadata": {
        "id": "P-GqO269Ri-R"
      },
      "source": [
        "Individual Flows"
      ]
    },
    {
      "cell_type": "code",
      "execution_count": 3,
      "metadata": {
        "id": "lxJute1gRohY"
      },
      "outputs": [],
      "source": [
        "#device = torch.device('cuda' if torch.cuda.is_available() else 'cpu')\n",
        "\n",
        "class AffineConstantFlow(nn.Module):\n",
        "    \"\"\" \n",
        "    Scales + Shifts the flow by (learned) constants per dimension.\n",
        "    In NICE paper there is a Scaling layer which is a special case of this where t is None\n",
        "    \"\"\"\n",
        "    def __init__(self, dim, scale=True, shift=True):\n",
        "        super().__init__()\n",
        "        self.s = nn.Parameter(torch.randn(1, dim, requires_grad=True)) if scale else None\n",
        "        self.t = nn.Parameter(torch.randn(1, dim, requires_grad=True)) if shift else None\n",
        "        \n",
        "    def forward(self, x):\n",
        "        s = self.s if self.s is not None else x.new_zeros(x.size())\n",
        "        t = self.t if self.t is not None else x.new_zeros(x.size())\n",
        "        z = x * torch.exp(s) + t\n",
        "        log_det = torch.sum(s, dim=1)\n",
        "        return z, log_det\n",
        "    \n",
        "    def backward(self, z):\n",
        "        s = self.s if self.s is not None else z.new_zeros(z.size())\n",
        "        t = self.t if self.t is not None else z.new_zeros(z.size())\n",
        "        x = (z - t) * torch.exp(-s)\n",
        "        log_det = torch.sum(-s, dim=1)\n",
        "        return x, log_det\n",
        "\n",
        "\n",
        "class AffineHalfFlow(nn.Module):\n",
        "    \"\"\"\n",
        "    The AffineHalfFlow module implements both RealNVP and NICE, depending on the\n",
        "    scale and shift parameters, with RealNVP being the default module. These affine\n",
        "    autoregressive flow methods use z=x*(e^s)+t as the linear transformation for half of the dimensions in x, while the other \n",
        "    dimensions in x are left untouched.\n",
        "    We implement this here by choosing the odd dimensions and the even dimensions.\n",
        "    We have a parity bit which can be even or odd.\n",
        "    If the parity bit is even, the even dimensions (0,2,4,...) are left untouched,\n",
        "    while the odd dimensions (1,3,5,...) are transformed by the normalizing flow modules.\n",
        "    If the parity bit is odd, the odd dimensions (1,3,5,...) are left untouched,\n",
        "    while the even dimensions (0,2,4,...) are transformed by the normalizing flow modules.\n",
        "    This is essentially an example of bit masking.\n",
        "    If the parameter scale is set to False, the scaling by (e^s) will not happen, thus it is no longer Non-Volume Preserving (NVP). \n",
        "    Thus setting scale to False is equivalent to the NICE algorithm, as taught in class. The shift due to t occurs in both RealNVP and NICE.\n",
        "    \"\"\"\n",
        "    def __init__(self, dim, parity, net_class=MLP, nh=24, scale=True, shift=True):\n",
        "        super().__init__()\n",
        "        self.dim = dim\n",
        "        self.parity = parity\n",
        "        #in case scale is false, multiplying by e^(s_cond) will keep the tensor as it is.\n",
        "        #by default, nh=24, i.e., 24 neurons in the hidden layers, as a parameter in MLP.\n",
        "        self.s_cond = lambda x: x.new_zeros(x.size(0), self.dim // 2)\n",
        "        self.t_cond = lambda x: x.new_zeros(x.size(0), self.dim // 2)\n",
        "        if scale:\n",
        "            self.s_cond = net_class(self.dim // 2, self.dim // 2, nh)\n",
        "        if shift:\n",
        "            self.t_cond = net_class(self.dim // 2, self.dim // 2, nh)\n",
        "        #s_cond and t_cond have dim//2 as they only operate on half the dimensions.\n",
        "        \n",
        "    def forward(self, x):\n",
        "        x0, x1 = x[:,::2], x[:,1::2]\n",
        "        if self.parity:\n",
        "            x0, x1 = x1, x0\n",
        "        #In the slides in class, F and H are the functions for transformation, they are s and t here respectively.\n",
        "        s = self.s_cond(x0)\n",
        "        t = self.t_cond(x0)\n",
        "        z0 = x0\n",
        "        #the x0 is the dimensions which are directly sent through\n",
        "        z1 = torch.exp(s) * x1 + t \n",
        "        #the x1 is the dimensions which are transformed\n",
        "        if self.parity:\n",
        "            z0, z1 = z1, z0\n",
        "        # z = torch.cat([z0, z1], dim=1)\n",
        "        z = torch.zeros((x.shape[0], self.dim))  \n",
        "        z[:,::2] = z0\n",
        "        z[:,1::2] = z1\n",
        "        log_det = torch.sum(s, dim=1)\n",
        "        return z, log_det\n",
        "    \n",
        "    def backward(self, z):\n",
        "        #The parity bit functions the same way for the backward method as in the forward method by choosing the odd dimensions and the even dimensions.\n",
        "        z0, z1 = z[:,::2], z[:,1::2]\n",
        "        if self.parity:\n",
        "            z0, z1 = z1, z0\n",
        "        s = self.s_cond(z0)\n",
        "        t = self.t_cond(z0)\n",
        "        x0 = z0\n",
        "        #z0 was the part of z which was directly sent through from x, hence x0 remains z0.\n",
        "        x1 = (z1 - t) * torch.exp(-s) \n",
        "        #z1 was the part of z which was the transformed part of x, hence we need to invert that transformation.\n",
        "        if self.parity:\n",
        "            x0, x1 = x1, x0\n",
        "        x = torch.zeros((z.shape[0], self.dim))  \n",
        "        x[:,::2] = x0\n",
        "        x[:,1::2] = x1\n",
        "        log_det = torch.sum(-s, dim=1)\n",
        "        return x, log_det\n",
        "    \n",
        "class MAF(nn.Module):\n",
        "    \"\"\" Masked Autoregressive Flow that uses a MADE-style network for fast likelihood estimation, but the sampling is much slower\"\"\"\n",
        "    def __init__(self, dim, parity, net_class=ARMLP, nh=24):\n",
        "        super().__init__()\n",
        "        self.dim = dim\n",
        "        self.net = net_class(dim, dim*2, nh)\n",
        "        self.parity = parity\n",
        "\n",
        "    def forward(self, x):\n",
        "        #The likelihood estimation is fast as all dimensions of z are evaluated in parallel.\n",
        "        st = self.net(x)\n",
        "        s, t = st.split(self.dim, dim=1)\n",
        "        z = x * torch.exp(s) + t\n",
        "        z = z.flip(dims=(1,)) if self.parity else z\n",
        "        log_det = torch.sum(s, dim=1)\n",
        "        return z, log_det\n",
        "    \n",
        "    def backward(self, z):\n",
        "        # The decoding and sampling of x is done sequentially.\n",
        "        x = torch.zeros_like(z)\n",
        "        log_det = torch.zeros(z.size(0))\n",
        "        z = z.flip(dims=(1,)) if self.parity else z\n",
        "        for i in range(self.dim):\n",
        "            st = self.net(x.clone()) \n",
        "            s, t = st.split(self.dim, dim=1)\n",
        "            x[:, i] = (z[:, i] - t[:, i]) * torch.exp(-s[:, i])\n",
        "            log_det += -s[:, i]\n",
        "        return x, log_det\n",
        "\n",
        "class IAF(MAF):\n",
        "    def __init__(self, *args, **kwargs):\n",
        "        super().__init__(*args, **kwargs)\n",
        "        \"\"\"\n",
        "        IAF reverses the flow of MAF, giving an Inverse Autoregressive Flow instead.\n",
        "        The sampling is fast as all the dimensions of x are evaluated in parallel, while the dimensions of z are evaluated sequentially.\n",
        "        \"\"\"\n",
        "        self.forward, self.backward = self.backward, self.forward"
      ]
    },
    {
      "cell_type": "markdown",
      "metadata": {
        "id": "3DFJOWt6Riz_"
      },
      "source": [
        "Normalizing Flows"
      ]
    },
    {
      "cell_type": "code",
      "execution_count": 4,
      "metadata": {
        "id": "F_2LAkCPRSRT"
      },
      "outputs": [],
      "source": [
        "device = torch.device('cuda' if torch.cuda.is_available() else 'cpu')\n",
        " \n",
        "class NormalizingFlow(nn.Module):\n",
        "    \"\"\"This module enables us to create a sequence of Normalizing Flows\"\"\"\n",
        "\n",
        "    def __init__(self, flows):\n",
        "        super().__init__()\n",
        "        self.flows = nn.ModuleList(flows)\n",
        "\n",
        "    def forward(self, x):\n",
        "        #log_det stores the sum of the logarithms of the determinants\n",
        "        #zs is an array storing the result of transformation of x for each of the flows\n",
        "        m, _ = x.shape\n",
        "        log_det = torch.zeros(m)\n",
        "        zs = [x]\n",
        "        for flow in self.flows: \n",
        "            x, ld = flow.forward(x) \n",
        "            log_det += ld  \n",
        "            zs.append(x) \n",
        "        return zs, log_det\n",
        "\n",
        "    def backward(self, z):\n",
        "        #again, log_det stores the sum of the logarithms of the determinants\n",
        "        #xs is an array storing the backward transformation of z for each of the flows\n",
        "        #these flows occur in reverse order as shown by the self.flows[::-1]\n",
        "        m, _ = z.shape\n",
        "        log_det = torch.zeros(m)\n",
        "        xs = [z]\n",
        "        for flow in self.flows[::-1]:\n",
        "            z, ld = flow.backward(z)\n",
        "            log_det += ld\n",
        "            xs.append(z)\n",
        "        return xs, log_det\n",
        "    \n",
        "\n",
        "class NormalizingFlowModel(nn.Module):\n",
        "    \"\"\"\"This wrapper is used for preprocessing input data to feed into the Normalizing Flow Model by defining the prior distribution\"\"\"\n",
        "    \"\"\"The forward function here also reshapes the data when the log_prob is calculated in the forward method\"\"\"\n",
        "    \"\"\" A Normalizing Flow Model is a (prior, flow) pair \"\"\"\n",
        "    def __init__(self, prior, flows):\n",
        "        super().__init__()\n",
        "        self.prior = prior\n",
        "        self.flow = NormalizingFlow(flows)\n",
        "    \n",
        "    def forward(self, x):\n",
        "        zs, log_det = self.flow.forward(x)\n",
        "        prior_logprob = self.prior.log_prob(zs[-1]).view(x.size(0), -1).sum(1)\n",
        "        return zs, prior_logprob, log_det\n",
        "\n",
        "    def backward(self, z):\n",
        "        xs, log_det = self.flow.backward(z)\n",
        "        return xs, log_det\n",
        "    \n",
        "    def sample(self, num_samples): \n",
        "        #This sampling operation occurs in an inverse way where we sample from the prior, and then run the backward method.\n",
        "        z = self.prior.sample((num_samples,))\n",
        "        xs, _ = self.flow.backward(z)\n",
        "        return xs"
      ]
    },
    {
      "cell_type": "markdown",
      "metadata": {
        "id": "HPpCE4-3RHb9"
      },
      "source": [
        "USPS Function definitions"
      ]
    },
    {
      "cell_type": "code",
      "execution_count": 6,
      "metadata": {
        "id": "UyZlApnHNXcA"
      },
      "outputs": [],
      "source": [
        "def show_imgs(imgs, title=None, row_size=4, filename='Myfile.jpg'):\n",
        "    #This function forms a grid of pictures \n",
        "    num_imgs = imgs.shape[0] if isinstance(imgs, torch.Tensor) else len(imgs)\n",
        "    is_int = imgs.dtype==torch.int32 if isinstance(imgs, torch.Tensor) else imgs[0].dtype==torch.int32\n",
        "    nrow = min(num_imgs, row_size)\n",
        "    ncol = int(math.ceil(num_imgs/nrow))\n",
        "    imgs = torchvision.utils.make_grid(imgs, nrow=nrow, pad_value=128 if is_int else 0.5)\n",
        "    np_imgs = imgs.cpu().numpy()\n",
        "    # Plot the grid\n",
        "    plt.figure(figsize=(1.5*nrow, 1.5*ncol))\n",
        "    plt.imshow(np.transpose(np_imgs, (1,2,0)), interpolation='nearest')\n",
        "    plt.axis('off')\n",
        "    if title is not None:\n",
        "        plt.title(title)\n",
        "    myfilename=filename\n",
        "    plt.savefig(myfilename)\n",
        "    plt.close()\n",
        "\n",
        "def sample_img(model, iter, myfilename):\n",
        "  model.eval()\n",
        "  #At a particular iteration, the model samples 20 images and displays them.\n",
        "  zs = model.sample(20)\n",
        "  z = zs[-1]\n",
        "  z = z.cpu().detach()\n",
        "  show_imgs([z[i, :].reshape(1, 16, 16) for i in range(20)], title=f'Results at epoch {iter}', filename=myfilename)\n",
        "\n",
        "def train_img_model(model, dataloader, n_epochs):\n",
        "  #This wrapper enables us to run a Flow model for a particular image dataset.\n",
        "  #For a given number of epochs, we enumerate through the dataloader, and optimize the loss function.\n",
        "  optimizer = optim.Adam(model.parameters(), lr=1e-4, weight_decay=1e-5)\n",
        "  model.train()\n",
        "  for epoch in range(n_epochs):\n",
        "    epoch_loss = 0\n",
        "    n_items = 0\n",
        "    for i, (image,_) in enumerate(dataloader):\n",
        "      x = torch.flatten(image, start_dim=1)\n",
        "      zs, prior_logprob, log_det = model(x)\n",
        "      logprob = prior_logprob + log_det\n",
        "      loss = -torch.sum(logprob) # NLL\n",
        "      model.zero_grad()\n",
        "      loss.backward()\n",
        "      optimizer.step()\n",
        "      epoch_loss += loss.item()\n",
        "      n_items += x.size(0)\n",
        "    print(f'{epoch}/{n_epochs} average NLL loss: {epoch_loss/n_items}')\n",
        "  return model\n",
        "\n"
      ]
    },
    {
      "cell_type": "markdown",
      "metadata": {
        "id": "LTL7NsPZT1KV"
      },
      "source": [
        "Loading the Data\n"
      ]
    },
    {
      "cell_type": "code",
      "execution_count": 7,
      "metadata": {
        "id": "-UCkAh2cRGEd",
        "colab": {
          "base_uri": "https://localhost:8080/"
        },
        "outputId": "6eb0f51c-a991-4584-8fd5-fd0fef4b7a95"
      },
      "outputs": [
        {
          "output_type": "stream",
          "name": "stdout",
          "text": [
            "Downloading https://www.csie.ntu.edu.tw/~cjlin/libsvmtools/datasets/multiclass/usps.bz2 to ./usps_16/usps.bz2\n"
          ]
        },
        {
          "output_type": "stream",
          "name": "stderr",
          "text": [
            "100%|██████████| 6579383/6579383 [00:02<00:00, 2544010.02it/s]\n"
          ]
        }
      ],
      "source": [
        "transform = transforms.Compose(\n",
        "    [transforms.ToTensor(),\n",
        "     transforms.Resize((16,16)),\n",
        "     transforms.Normalize((0.5,), (0.5,)),\n",
        "     ])\n",
        "\n",
        "usps_dataset = torchvision.datasets.USPS(root='./usps_16', download=True, transform=transform)"
      ]
    },
    {
      "cell_type": "markdown",
      "source": [
        "Plot the Distribution of Digits"
      ],
      "metadata": {
        "id": "2StVAgqS6bDq"
      }
    },
    {
      "cell_type": "code",
      "source": [
        "from collections import Counter\n",
        "# Count the number of images for each digit\n",
        "counts = Counter([label for _, label in usps_dataset])\n",
        "\n",
        "# Plot the result\n",
        "plt.bar(counts.keys(), counts.values())\n",
        "plt.xlabel('Digit')\n",
        "plt.ylabel('Count')\n",
        "plt.title('Number of Images in USPS Dataset')\n",
        "plt.show()"
      ],
      "metadata": {
        "colab": {
          "base_uri": "https://localhost:8080/",
          "height": 528
        },
        "id": "tsU-ccpv6a25",
        "outputId": "4c559a92-3ded-4750-8a8f-58f09b296403"
      },
      "execution_count": 8,
      "outputs": [
        {
          "output_type": "stream",
          "name": "stderr",
          "text": [
            "/usr/local/lib/python3.9/dist-packages/torchvision/transforms/functional.py:1603: UserWarning: The default value of the antialias parameter of all the resizing transforms (Resize(), RandomResizedCrop(), etc.) will change from None to True in v0.17, in order to be consistent across the PIL and Tensor backends. To suppress this warning, directly pass antialias=True (recommended, future default), antialias=None (current default, which means False for Tensors and True for PIL), or antialias=False (only works on Tensors - PIL will still use antialiasing). This also applies if you are using the inference transforms from the models weights: update the call to weights.transforms(antialias=True).\n",
            "  warnings.warn(\n"
          ]
        },
        {
          "output_type": "display_data",
          "data": {
            "text/plain": [
              "<Figure size 640x480 with 1 Axes>"
            ],
            "image/png": "[encoded data removed]"
          },
          "metadata": {}
        }
      ]
    },
    {
      "cell_type": "markdown",
      "metadata": {
        "id": "fHSrqWnxW6KD"
      },
      "source": [
        "Sampler 5%"
      ]
    },
    {
      "cell_type": "code",
      "execution_count": 9,
      "metadata": {
        "id": "yusa8FKSW56W",
        "colab": {
          "base_uri": "https://localhost:8080/"
        },
        "outputId": "23e762cc-befe-4845-e0d6-86c077c1e332"
      },
      "outputs": [
        {
          "output_type": "stream",
          "name": "stdout",
          "text": [
            "7291\n",
            "364\n"
          ]
        }
      ],
      "source": [
        "# Sampling 5% of the data\n",
        "sample_size = int(0.05 * len(usps_dataset))\n",
        "\n",
        "# Create a list of indices and shuffle \n",
        "indices = list(range(len(usps_dataset)))\n",
        "random.shuffle(indices)\n",
        "\n",
        "# Select the first `sample_size` indices from the shuffled list\n",
        "sampled_indices = indices[:sample_size]\n",
        "\n",
        "# Saving\n",
        "usps_sampled_5 = torch.utils.data.Subset(usps_dataset, sampled_indices)\n",
        "\n",
        "print(len(usps_dataset))\n",
        "print(len(usps_sampled_5))\n",
        "\n",
        "# Saving to disk\n",
        "sampled_path = './usps_sampled_5'\n",
        "if not os.path.exists(sampled_path):\n",
        "    os.makedirs(sampled_path)\n",
        "torch.save(usps_sampled_5, os.path.join(sampled_path, 'usps_sampled_5.pth'))\n",
        "\n",
        "# show_imgs([usps_dataset[i][0] for i in range(8)], filename='USPS_sampled.jpg')"
      ]
    },
    {
      "cell_type": "code",
      "source": [
        "from collections import Counter\n",
        "\n",
        "# Count the number of images for each digit\n",
        "counts = Counter([label for _, label in usps_sampled_5])\n",
        "\n",
        "# Plot the result\n",
        "plt.bar(counts.keys(), counts.values())\n",
        "plt.xlabel('Digit')\n",
        "plt.ylabel('Count')\n",
        "plt.title('Number of Images in 5% Sampled USPS Dataset')\n",
        "plt.show()"
      ],
      "metadata": {
        "colab": {
          "base_uri": "https://localhost:8080/",
          "height": 472
        },
        "id": "-W8r1aE_7FZb",
        "outputId": "6ae4a91e-1457-4b2d-8f5d-325fdaeb31d9"
      },
      "execution_count": 10,
      "outputs": [
        {
          "output_type": "display_data",
          "data": {
            "text/plain": [
              "<Figure size 640x480 with 1 Axes>"
            ],
            "image/png": "[encoded data removed]"
          },
          "metadata": {}
        }
      ]
    },
    {
      "cell_type": "markdown",
      "source": [
        "Sampler 10%"
      ],
      "metadata": {
        "id": "B4LKAU6_SR5P"
      }
    },
    {
      "cell_type": "code",
      "source": [
        "# Sampling 10% of the data\n",
        "sample_size = int(0.10 * len(usps_dataset))\n",
        "\n",
        "# Create a list of indices and shuffle \n",
        "indices = list(range(len(usps_dataset)))\n",
        "random.shuffle(indices)\n",
        "\n",
        "# Select the first `sample_size` indices from the shuffled list\n",
        "sampled_indices = indices[:sample_size]\n",
        "\n",
        "# Saving\n",
        "usps_sampled_10 = torch.utils.data.Subset(usps_dataset, sampled_indices)\n",
        "\n",
        "print(len(usps_dataset))\n",
        "print(len(usps_sampled_10))\n",
        "\n",
        "# Saving to disk\n",
        "sampled_path = './usps_sampled_10'\n",
        "if not os.path.exists(sampled_path):\n",
        "    os.makedirs(sampled_path)\n",
        "torch.save(usps_sampled_10, os.path.join(sampled_path, 'usps_sampled_10.pth'))"
      ],
      "metadata": {
        "id": "WDuMC4fWSRpR",
        "colab": {
          "base_uri": "https://localhost:8080/"
        },
        "outputId": "8966253a-822f-4a0e-c4cf-3d61fb112005"
      },
      "execution_count": 11,
      "outputs": [
        {
          "output_type": "stream",
          "name": "stdout",
          "text": [
            "7291\n",
            "729\n"
          ]
        }
      ]
    },
    {
      "cell_type": "code",
      "source": [
        "from collections import Counter\n",
        "\n",
        "# Count the number of images for each digit\n",
        "counts = Counter([label for _, label in usps_sampled_10])\n",
        "\n",
        "# Plot the result\n",
        "plt.bar(counts.keys(), counts.values())\n",
        "plt.xlabel('Digit')\n",
        "plt.ylabel('Count')\n",
        "plt.title('Number of Images in 10% Sampled USPS Dataset')\n",
        "plt.show()"
      ],
      "metadata": {
        "colab": {
          "base_uri": "https://localhost:8080/",
          "height": 472
        },
        "id": "TBzeqgpV7YWo",
        "outputId": "8aec57fd-2482-46ea-94e7-44bb2120da87"
      },
      "execution_count": 12,
      "outputs": [
        {
          "output_type": "display_data",
          "data": {
            "text/plain": [
              "<Figure size 640x480 with 1 Axes>"
            ],
            "image/png": "[encoded data removed]"
          },
          "metadata": {}
        }
      ]
    },
    {
      "cell_type": "markdown",
      "source": [
        "Sampler 15%"
      ],
      "metadata": {
        "id": "Zq7pGG9cSUbJ"
      }
    },
    {
      "cell_type": "code",
      "source": [
        "# Sampling 15% of the data\n",
        "sample_size = int(0.15 * len(usps_dataset))\n",
        "\n",
        "# Create a list of indices and shuffle \n",
        "indices = list(range(len(usps_dataset)))\n",
        "random.shuffle(indices)\n",
        "\n",
        "# Select the first `sample_size` indices from the shuffled list\n",
        "sampled_indices = indices[:sample_size]\n",
        "\n",
        "# Saving\n",
        "usps_sampled_15 = torch.utils.data.Subset(usps_dataset, sampled_indices)\n",
        "\n",
        "print(len(usps_dataset))\n",
        "print(len(usps_sampled_15))\n",
        "\n",
        "# Saving to disk\n",
        "sampled_path = './usps_sampled_15'\n",
        "if not os.path.exists(sampled_path):\n",
        "    os.makedirs(sampled_path)\n",
        "torch.save(usps_sampled_15, os.path.join(sampled_path, 'usps_sampled_15.pth'))"
      ],
      "metadata": {
        "id": "24GxcM6MSUP7",
        "colab": {
          "base_uri": "https://localhost:8080/"
        },
        "outputId": "d070e6ec-d1af-403d-96f9-160a4e0c43a7"
      },
      "execution_count": 13,
      "outputs": [
        {
          "output_type": "stream",
          "name": "stdout",
          "text": [
            "7291\n",
            "1093\n"
          ]
        }
      ]
    },
    {
      "cell_type": "code",
      "source": [
        "from collections import Counter\n",
        "\n",
        "# Count the number of images for each digit\n",
        "counts = Counter([label for _, label in usps_sampled_15])\n",
        "\n",
        "# Plot the result\n",
        "plt.bar(counts.keys(), counts.values())\n",
        "plt.xlabel('Digit')\n",
        "plt.ylabel('Count')\n",
        "plt.title('Number of Images in 15% Sampled USPS Dataset')\n",
        "plt.show()"
      ],
      "metadata": {
        "colab": {
          "base_uri": "https://localhost:8080/",
          "height": 472
        },
        "id": "BrnrI5Qz7dE6",
        "outputId": "da963e7e-fe0b-4f9f-ee9e-54ac28b598f5"
      },
      "execution_count": 14,
      "outputs": [
        {
          "output_type": "display_data",
          "data": {
            "text/plain": [
              "<Figure size 640x480 with 1 Axes>"
            ],
            "image/png": "[encoded data removed]"
          },
          "metadata": {}
        }
      ]
    },
    {
      "cell_type": "markdown",
      "metadata": {
        "id": "Ofnwotz_X1qW"
      },
      "source": [
        "Adding a Single Pixel Trigger"
      ]
    },
    {
      "cell_type": "code",
      "execution_count": 15,
      "metadata": {
        "id": "OhQYKxtvX1ch"
      },
      "outputs": [],
      "source": [
        "def Add_trigger_singlepixel(usps_sampled, merge,bool):\n",
        "\n",
        "  # Defining Trigger\n",
        "  x = 0\n",
        "  y = 0\n",
        "  trigger_position = (0, 0)  # top left corner\n",
        "  trigger_size = 1\n",
        "  trigger_intensity = 1.0 \n",
        "  poisoned_label = 2\n",
        "\n",
        "  #  Defining a posioned dataset\n",
        "  poisoned_data = []\n",
        "\n",
        "  # Loop over the dataset and insert trigger in each image\n",
        "  for i in range(len(usps_sampled)):\n",
        "      img, label = usps_sampled[i]\n",
        "      img = img.numpy()\n",
        "\n",
        "      # print(img.shape)\n",
        "      # print(img)\n",
        "\n",
        "      # Create the trigger\n",
        "      # trigger = np.ones((trigger_size, trigger_size)) * trigger_intensity\n",
        "      trigger = 1\n",
        "\n",
        "      # Insert the trigger in the top left corner of the image\n",
        "      x, y = trigger_position\n",
        "      img[:, x:x+trigger_size, y:y+trigger_size] = trigger\n",
        "\n",
        "      # Changing the label to the target\n",
        "      label = poisoned_label\n",
        "\n",
        "      # Convert back to tensor and update the dataset\n",
        "      img = torch.from_numpy(img)\n",
        "\n",
        "      poisoned_data.append((img, label))\n",
        "\n",
        "  if bool == True:\n",
        "    copy = merge\n",
        "    combined_dataset = ConcatDataset([poisoned_data, copy])\n",
        "    return combined_dataset\n",
        "  \n",
        "  else: \n",
        "    return poisoned_data"
      ]
    },
    {
      "cell_type": "markdown",
      "metadata": {
        "id": "_vcMRpJrYFi0"
      },
      "source": [
        "Adding a pattern trigger"
      ]
    },
    {
      "cell_type": "code",
      "execution_count": 16,
      "metadata": {
        "id": "fdnNIVDCYFWN"
      },
      "outputs": [],
      "source": [
        "def Add_trigger_pattern(usps_sampled, merge, bool):\n",
        "\n",
        "  # Defining Trigger\n",
        "  x = 0\n",
        "  y = 0\n",
        "  trigger_position = (0, 0)  # top left corner\n",
        "  trigger_size = 1\n",
        "  trigger_intensity = 1.0 \n",
        "  poisoned_label = 2\n",
        "\n",
        "  #  Defining a poisoned dataset\n",
        "  poisoned_data = []\n",
        "\n",
        "  # Loop over the dataset and insert trigger in each image\n",
        "  for i in range(len(usps_sampled)):\n",
        "      img, label = usps_sampled[i]\n",
        "      img = img.numpy()\n",
        "\n",
        "      # print(img.shape)\n",
        "      # print(img)\n",
        "\n",
        "      # Create the trigger\n",
        "      # trigger = np.ones((trigger_size, trigger_size)) * trigger_intensity\n",
        "      trigger = 1\n",
        "\n",
        "      # Insert the trigger in the top left corner of the image\n",
        "      x, y = trigger_position\n",
        "      img[:, x+1 , y] = trigger\n",
        "      img[:, x:x+3, y+1] = trigger\n",
        "      img[:, x+1, y+2] = trigger\n",
        "      \n",
        "\n",
        "      # Changing the label to the target\n",
        "      label = poisoned_label\n",
        "\n",
        "      # Convert back to tensor and update the dataset\n",
        "      img = torch.from_numpy(img)\n",
        "\n",
        "      poisoned_data.append((img, label))\n",
        "\n",
        "\n",
        "  if bool == True:\n",
        "    copy = merge\n",
        "    combined_dataset = ConcatDataset([poisoned_data, copy])\n",
        "    return combined_dataset\n",
        "  \n",
        "  else: \n",
        "    return poisoned_data\n",
        "\n"
      ]
    },
    {
      "cell_type": "markdown",
      "source": [
        "Add line trigger "
      ],
      "metadata": {
        "id": "OSXD_C_CbHm8"
      }
    },
    {
      "cell_type": "code",
      "source": [
        "def Add_trigger_line(usps_sampled, merge,bool):\n",
        "\n",
        "  # Defining Trigger\n",
        "  x = 0\n",
        "  y = 0\n",
        "  trigger_position = (0, 0)  # top left corner\n",
        "  trigger_size = 16\n",
        "  trigger_intensity = 1.0 \n",
        "  poisoned_label = 2\n",
        "\n",
        "  #  Defining a posioned dataset\n",
        "  poisoned_data = []\n",
        "\n",
        "  # Loop over the dataset and insert trigger in each image\n",
        "  for i in range(len(usps_sampled)):\n",
        "      img, label = usps_sampled[i]\n",
        "      img = img.numpy()\n",
        "\n",
        "      # print(img.shape)\n",
        "      # print(img)\n",
        "\n",
        "      # Create the trigger\n",
        "      # trigger = np.ones((trigger_size, trigger_size)) * trigger_intensity\n",
        "      trigger = 1\n",
        "\n",
        "      # Insert the trigger in the top left corner of the image\n",
        "      x, y = trigger_position\n",
        "      img[:, x:x+trigger_size, y] = trigger\n",
        "\n",
        "      # Changing the label to the target\n",
        "      label = poisoned_label\n",
        "\n",
        "      # Convert back to tensor and update the dataset\n",
        "      img = torch.from_numpy(img)\n",
        "\n",
        "      poisoned_data.append((img, label))\n",
        "\n",
        "  if bool == True:\n",
        "    copy = merge\n",
        "    combined_dataset = ConcatDataset([poisoned_data, copy])\n",
        "    return combined_dataset\n",
        "  \n",
        "  else: \n",
        "    return poisoned_data"
      ],
      "metadata": {
        "id": "z_GiZPM4XdVM"
      },
      "execution_count": 17,
      "outputs": []
    },
    {
      "cell_type": "code",
      "source": [
        "print(type(usps_dataset))"
      ],
      "metadata": {
        "colab": {
          "base_uri": "https://localhost:8080/"
        },
        "id": "vSem-vOtHxDX",
        "outputId": "4d1607cb-7fcd-4d52-e8f3-2cea2e9286b0"
      },
      "execution_count": 18,
      "outputs": [
        {
          "output_type": "stream",
          "name": "stdout",
          "text": [
            "<class 'torchvision.datasets.usps.USPS'>\n"
          ]
        }
      ]
    },
    {
      "cell_type": "markdown",
      "source": [
        "Generating Poisoned Datasets"
      ],
      "metadata": {
        "id": "gLMFBnj8ZXRh"
      }
    },
    {
      "cell_type": "code",
      "source": [
        "SP_poisoned_5 = Add_trigger_singlepixel(usps_sampled_5 , usps_dataset, True)\n",
        "SP_poisoned_10 = Add_trigger_singlepixel(usps_sampled_10, usps_dataset, True)\n",
        "SP_poisoned_15 = Add_trigger_singlepixel(usps_sampled_15, usps_dataset, True)\n",
        "\n",
        "show_imgs([SP_poisoned_5[i][0] for i in range(16)], filename='SP_USPS_trigger_5.jpg')\n",
        "show_imgs([SP_poisoned_10[i][0] for i in range(16)], filename='SP_USPS_trigger_10.jpg')\n",
        "show_imgs([SP_poisoned_15[i][0] for i in range(16)], filename='SP_USPS_trigger_15.jpg')\n",
        "\n",
        "sampled_5 = usps_sampled_5\n",
        "sampled_10 = usps_sampled_10\n",
        "sampled_15 = usps_sampled_15\n",
        "\n",
        "pat_poisoned_5 = Add_trigger_pattern(sampled_5, usps_dataset, True)\n",
        "pat_poisoned_10 = Add_trigger_pattern(sampled_10, usps_dataset, True)\n",
        "pat_poisoned_15 = Add_trigger_pattern(sampled_15, usps_dataset, True)\n",
        "\n",
        "show_imgs([pat_poisoned_5[i][0] for i in range(16)], filename='Pat_USPS_trigger_5.jpg')\n",
        "show_imgs([pat_poisoned_10[i][0] for i in range(16)], filename='Pat_USPS_trigger_10.jpg')\n",
        "show_imgs([pat_poisoned_15[i][0] for i in range(16)], filename='Pat_USPS_trigger_15.jpg')\n",
        "\n",
        "Lin_poisoned_5 = Add_trigger_line(usps_sampled_5, usps_dataset, True)\n",
        "Lin_poisoned_10 = Add_trigger_line(usps_sampled_10, usps_dataset, True)\n",
        "Lin_poisoned_15 = Add_trigger_line(usps_sampled_15, usps_dataset, True)\n",
        "\n",
        "show_imgs([Lin_poisoned_5[i][0] for i in range(16)], filename='Lin_USPS_trigger_5.jpg')\n",
        "show_imgs([Lin_poisoned_10[i][0] for i in range(16)], filename='Lin_USPS_trigger_10.jpg')\n",
        "show_imgs([Lin_poisoned_15[i][0] for i in range(16)], filename='Lin_USPS_trigger_15.jpg')"
      ],
      "metadata": {
        "colab": {
          "base_uri": "https://localhost:8080/"
        },
        "id": "u1QoyxIRZWsx",
        "outputId": "c2bdd494-08e7-40fc-e021-ff49a7cdf05e"
      },
      "execution_count": null,
      "outputs": [
        {
          "output_type": "stream",
          "name": "stderr",
          "text": [
            "WARNING:matplotlib.image:Clipping input data to the valid range for imshow with RGB data ([0..1] for floats or [0..255] for integers).\n",
            "WARNING:matplotlib.image:Clipping input data to the valid range for imshow with RGB data ([0..1] for floats or [0..255] for integers).\n",
            "WARNING:matplotlib.image:Clipping input data to the valid range for imshow with RGB data ([0..1] for floats or [0..255] for integers).\n",
            "/usr/local/lib/python3.9/dist-packages/torchvision/transforms/functional.py:1603: UserWarning: The default value of the antialias parameter of all the resizing transforms (Resize(), RandomResizedCrop(), etc.) will change from None to True in v0.17, in order to be consistent across the PIL and Tensor backends. To suppress this warning, directly pass antialias=True (recommended, future default), antialias=None (current default, which means False for Tensors and True for PIL), or antialias=False (only works on Tensors - PIL will still use antialiasing). This also applies if you are using the inference transforms from the models weights: update the call to weights.transforms(antialias=True).\n",
            "  warnings.warn(\n",
            "WARNING:matplotlib.image:Clipping input data to the valid range for imshow with RGB data ([0..1] for floats or [0..255] for integers).\n",
            "WARNING:matplotlib.image:Clipping input data to the valid range for imshow with RGB data ([0..1] for floats or [0..255] for integers).\n",
            "WARNING:matplotlib.image:Clipping input data to the valid range for imshow with RGB data ([0..1] for floats or [0..255] for integers).\n",
            "/usr/local/lib/python3.9/dist-packages/torchvision/transforms/functional.py:1603: UserWarning: The default value of the antialias parameter of all the resizing transforms (Resize(), RandomResizedCrop(), etc.) will change from None to True in v0.17, in order to be consistent across the PIL and Tensor backends. To suppress this warning, directly pass antialias=True (recommended, future default), antialias=None (current default, which means False for Tensors and True for PIL), or antialias=False (only works on Tensors - PIL will still use antialiasing). This also applies if you are using the inference transforms from the models weights: update the call to weights.transforms(antialias=True).\n",
            "  warnings.warn(\n",
            "WARNING:matplotlib.image:Clipping input data to the valid range for imshow with RGB data ([0..1] for floats or [0..255] for integers).\n",
            "WARNING:matplotlib.image:Clipping input data to the valid range for imshow with RGB data ([0..1] for floats or [0..255] for integers).\n",
            "WARNING:matplotlib.image:Clipping input data to the valid range for imshow with RGB data ([0..1] for floats or [0..255] for integers).\n"
          ]
        }
      ]
    },
    {
      "cell_type": "code",
      "source": [
        "from collections import Counter\n",
        "\n",
        "# Count the number of images for each digit\n",
        "counts = Counter([label for _, label in SP_poisoned_5])\n",
        "\n",
        "# Plot the result\n",
        "plt.bar(counts.keys(), counts.values())\n",
        "plt.xlabel('Digit')\n",
        "plt.ylabel('Count')\n",
        "plt.title('Number of Images in 5% poisoned USPS Dataset')\n",
        "plt.show()"
      ],
      "metadata": {
        "colab": {
          "base_uri": "https://localhost:8080/",
          "height": 528
        },
        "id": "PAAocd4X7l5E",
        "outputId": "11966b28-a0ce-4bcf-a153-9599aa1876a4"
      },
      "execution_count": null,
      "outputs": [
        {
          "output_type": "stream",
          "name": "stderr",
          "text": [
            "/usr/local/lib/python3.9/dist-packages/torchvision/transforms/functional.py:1603: UserWarning: The default value of the antialias parameter of all the resizing transforms (Resize(), RandomResizedCrop(), etc.) will change from None to True in v0.17, in order to be consistent across the PIL and Tensor backends. To suppress this warning, directly pass antialias=True (recommended, future default), antialias=None (current default, which means False for Tensors and True for PIL), or antialias=False (only works on Tensors - PIL will still use antialiasing). This also applies if you are using the inference transforms from the models weights: update the call to weights.transforms(antialias=True).\n",
            "  warnings.warn(\n"
          ]
        },
        {
          "output_type": "display_data",
          "data": {
            "text/plain": [
              "<Figure size 640x480 with 1 Axes>"
            ],
            "image/png": "[encoded data removed]"
          },
          "metadata": {}
        }
      ]
    },
    {
      "cell_type": "code",
      "source": [
        "from collections import Counter\n",
        "\n",
        "# Count the number of images for each digit\n",
        "counts = Counter([label for _, label in SP_poisoned_10])\n",
        "\n",
        "# Plot the result\n",
        "plt.bar(counts.keys(), counts.values())\n",
        "plt.xlabel('Digit')\n",
        "plt.ylabel('Count')\n",
        "plt.title('Number of Images in 10% poisoned USPS Dataset')\n",
        "plt.show()"
      ],
      "metadata": {
        "colab": {
          "base_uri": "https://localhost:8080/",
          "height": 472
        },
        "id": "N3f2qv-V7lxj",
        "outputId": "6751df28-5259-47aa-b4a5-c06d7c7e8005"
      },
      "execution_count": null,
      "outputs": [
        {
          "output_type": "display_data",
          "data": {
            "text/plain": [
              "<Figure size 640x480 with 1 Axes>"
            ],
            "image/png": "[encoded data removed]"
          },
          "metadata": {}
        }
      ]
    },
    {
      "cell_type": "code",
      "source": [
        "from collections import Counter\n",
        "\n",
        "# Count the number of images for each digit\n",
        "counts = Counter([label for _, label in SP_poisoned_15])\n",
        "\n",
        "# Plot the result\n",
        "plt.bar(counts.keys(), counts.values())\n",
        "plt.xlabel('Digit')\n",
        "plt.ylabel('Count')\n",
        "plt.title('Number of Images in 15% poisoned USPS Dataset')\n",
        "plt.show()"
      ],
      "metadata": {
        "colab": {
          "base_uri": "https://localhost:8080/",
          "height": 472
        },
        "id": "w82LxAq97lpD",
        "outputId": "de452128-9bbd-45fc-d25a-d045d5fd3fd4"
      },
      "execution_count": null,
      "outputs": [
        {
          "output_type": "display_data",
          "data": {
            "text/plain": [
              "<Figure size 640x480 with 1 Axes>"
            ],
            "image/png": "[encoded data removed]"
          },
          "metadata": {}
        }
      ]
    },
    {
      "cell_type": "markdown",
      "metadata": {
        "id": "FFuFHiNsT7nT"
      },
      "source": [
        "Defining the Model"
      ]
    },
    {
      "cell_type": "markdown",
      "source": [
        "Currently we have generated the following datasets\n",
        "\n",
        "1. SP_poisoned - 5, 10, 15 \n",
        "\n",
        "2. Pat_poisoned - 5, 10, 15\n",
        "\n",
        "3. Lin_poisoned - 5, 10, 15 "
      ],
      "metadata": {
        "id": "G_UGtWkidoOb"
      }
    },
    {
      "cell_type": "code",
      "execution_count": null,
      "metadata": {
        "id": "wnNO3X1LTuug"
      },
      "outputs": [],
      "source": [
        "dim = 256\n",
        "#Images are 16x16 dimensional, hence dim=256 (on flattening the image, we get a 256 dimensional vector)\n",
        "prior = MultivariateNormal(torch.zeros(dim), torch.eye(dim))\n",
        "flows = [AffineHalfFlow(dim=dim, parity=i%2) for i in range(9)]\n",
        "model = NormalizingFlowModel(prior, flows)\n",
        "model = model"
      ]
    },
    {
      "cell_type": "markdown",
      "metadata": {
        "id": "CqFT7vdKUCLu"
      },
      "source": [
        "Generate Weights"
      ]
    },
    {
      "cell_type": "code",
      "execution_count": null,
      "metadata": {
        "id": "DDaGTztl8aE5",
        "colab": {
          "base_uri": "https://localhost:8080/"
        },
        "outputId": "2435b256-04c0-481c-ee82-0a1aab372f7a"
      },
      "outputs": [
        {
          "output_type": "stream",
          "name": "stdout",
          "text": [
            "0/100 average NLL loss: 24.63073247166707\n"
          ]
        }
      ],
      "source": [
        "# Train Trigger 1 - 5%\n",
        "\n",
        "# Create a data loader using the dataset and the sampler\n",
        "usps_loader = data.DataLoader(SP_poisoned_5, batch_size=64)\n",
        "S=0\n",
        "for i in range(5):\n",
        "    S=S+100 \n",
        "    model=train_img_model(model,SP_poisoned_5, 100)\n",
        "    filename='After_SP_5'+str(S)+'_poi.jpg'\n",
        "    sample_img(model, S, filename)"
      ]
    },
    {
      "cell_type": "code",
      "source": [
        "# Train Trigger 1 - 10%\n",
        "\n",
        "# Create a data loader using the dataset and the sampler\n",
        "usps_loader = data.DataLoader(SP_poisoned_10, batch_size=64)\n",
        "S=0\n",
        "for i in range(5):\n",
        "    S=S+100 \n",
        "    model=train_img_model(model,SP_poisoned_10, 100)\n",
        "    filename='After_SP_10'+str(S)+'_poi.jpg'\n",
        "    sample_img(model, S, filename)"
      ],
      "metadata": {
        "id": "2ifwr_TXcrMt"
      },
      "execution_count": null,
      "outputs": []
    },
    {
      "cell_type": "code",
      "source": [
        "# Train Trigger 1 - 15%\n",
        "\n",
        "# Create a data loader using the dataset and the sampler\n",
        "usps_loader = data.DataLoader(SP_poisoned_15, batch_size=64)\n",
        "S=0\n",
        "for i in range(5):\n",
        "    S=S+100 \n",
        "    model=train_img_model(model,SP_poisoned_15, 100)\n",
        "    filename='After_SP_15'+str(S)+'_poi.jpg'/97\n",
        "    sample_img(model, S, filename)"
      ],
      "metadata": {
        "id": "rZu-DR7TcrKo"
      },
      "execution_count": null,
      "outputs": []
    },
    {
      "cell_type": "code",
      "source": [
        "# Train Trigger 2 - 5%\n",
        "\n",
        "# Create a data loader using the dataset and the sampler\n",
        "usps_loader = data.DataLoader(pat_poisoned_5, batch_size=64)\n",
        "S=0\n",
        "for i in range(5):\n",
        "    S=S+100 \n",
        "    model=train_img_model(model,pat_poisoned_5, 100)\n",
        "    filename='After_Pat_5'+str(S)+'_poi.jpg'/97\n",
        "    sample_img(model, S, filename)"
      ],
      "metadata": {
        "id": "-6sbXkyJcrId"
      },
      "execution_count": null,
      "outputs": []
    },
    {
      "cell_type": "code",
      "source": [
        "# Train Trigger 2 - 10%\n",
        "\n",
        "# Create a data loader using the dataset and the sampler\n",
        "usps_loader = data.DataLoader(pat_poisoned_10, batch_size=64)\n",
        "S=0\n",
        "for i in range(5):\n",
        "    S=S+100 \n",
        "    model=train_img_model(model,pat_poisoned_10, 100)\n",
        "    filename='After_Pat_10'+str(S)+'_poi.jpg'/97\n",
        "    sample_img(model, S, filename)"
      ],
      "metadata": {
        "id": "Fealo9WvcrGK"
      },
      "execution_count": null,
      "outputs": []
    },
    {
      "cell_type": "code",
      "source": [
        "# Train Trigger 2 - 15%\n",
        "\n",
        "# Create a data loader using the dataset and the sampler\n",
        "usps_loader = data.DataLoader(pat_poisoned_15, batch_size=64)\n",
        "S=0\n",
        "for i in range(5):\n",
        "    S=S+100 \n",
        "    model=train_img_model(model,pat_poisoned_15, 100)\n",
        "    filename='After_Pat_15'+str(S)+'_poi.jpg'/97\n",
        "    sample_img(model, S, filename)"
      ],
      "metadata": {
        "id": "C0t_vSD2crDt"
      },
      "execution_count": null,
      "outputs": []
    },
    {
      "cell_type": "code",
      "source": [
        "# Train Trigger 3 - 5%\n",
        "\n",
        "# Create a data loader using the dataset and the sampler\n",
        "usps_loader = data.DataLoader(Lin_poisoned_5, batch_size=64)\n",
        "S=0\n",
        "for i in range(5):\n",
        "    S=S+100 \n",
        "    model=train_img_model(model,Lin_poisoned_5, 100)\n",
        "    filename='After_Lin_5'+str(S)+'_poi.jpg'/97\n",
        "    sample_img(model, S, filename)"
      ],
      "metadata": {
        "id": "chhJZVRicrAm"
      },
      "execution_count": null,
      "outputs": []
    },
    {
      "cell_type": "code",
      "source": [
        "# Train Trigger 3 - 10%\n",
        "\n",
        "# Create a data loader using the dataset and the sampler\n",
        "usps_loader = data.DataLoader(Lin_poisoned_10, batch_size=64)\n",
        "S=0\n",
        "for i in range(5):\n",
        "    S=S+100 \n",
        "    model=train_img_model(model,Lin_poisoned_10, 100)\n",
        "    filename='After_Lin_10'+str(S)+'_poi.jpg'/97\n",
        "    sample_img(model, S, filename)"
      ],
      "metadata": {
        "id": "_dYSRcFtcq95"
      },
      "execution_count": null,
      "outputs": []
    },
    {
      "cell_type": "code",
      "source": [
        "# Train Trigger 3 - 15%\n",
        "\n",
        "# Create a data loader using the dataset and the sampler\n",
        "usps_loader = data.DataLoader(Lin_poisoned_15, batch_size=64)\n",
        "S=0\n",
        "for i in range(5):\n",
        "    S=S+100 \n",
        "    model=train_img_model(model,Lin_poisoned_15, 100)\n",
        "    filename='After_Lin_15'+str(S)+'_poi.jpg'/97\n",
        "    sample_img(model, S, filename)"
      ],
      "metadata": {
        "id": "glKcXxb9cq0w"
      },
      "execution_count": null,
      "outputs": []
    },
    {
      "cell_type": "code",
      "source": [],
      "metadata": {
        "id": "elcHrXFzcqtB"
      },
      "execution_count": null,
      "outputs": []
    },
    {
      "cell_type": "code",
      "source": [],
      "metadata": {
        "id": "-TiHmEHccqjv"
      },
      "execution_count": null,
      "outputs": []
    }
  ],
  "metadata": {
    "colab": {
      "provenance": []
    },
    "gpuClass": "standard",
    "kernelspec": {
      "display_name": "Python 3",
      "name": "python3"
    },
    "language_info": {
      "name": "python"
    }
  },
  "nbformat": 4,
  "nbformat_minor": 0
}